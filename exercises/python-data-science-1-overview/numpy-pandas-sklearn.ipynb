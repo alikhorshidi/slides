{
 "metadata": {
  "language_info": {
   "codemirror_mode": {
    "name": "ipython",
    "version": 3
   },
   "file_extension": ".py",
   "mimetype": "text/x-python",
   "name": "python",
   "nbconvert_exporter": "python",
   "pygments_lexer": "ipython3",
   "version": "3.9.1-final"
  },
  "orig_nbformat": 2,
  "kernelspec": {
   "name": "python3",
   "display_name": "Python 3.9.1 64-bit",
   "metadata": {
    "interpreter": {
     "hash": "ae90dfe03a2ff2a8ba59a379b95d74bdb27cf9a7ce93f86ebd19f2fc7c49c750"
    }
   }
  }
 },
 "nbformat": 4,
 "nbformat_minor": 2,
 "cells": [
  {
   "cell_type": "code",
   "execution_count": 30,
   "metadata": {},
   "outputs": [
    {
     "output_type": "execute_result",
     "data": {
      "text/plain": [
       "array([1.45714286, 1.63333333, 1.46875   , 1.48387097])"
      ]
     },
     "metadata": {},
     "execution_count": 30
    }
   ],
   "source": [
    "import numpy as np\n",
    "\n",
    "# create a 2-dimensional array\n",
    "iris = np.array([[5.1, 3.5, 1.4, 0.2],\n",
    "                 [4.9, 3.0, 1.4, 0.2],\n",
    "                 [4.7, 3.2, 1.3, 0.2],\n",
    "                 [4.6, 3.1, 1.5, 0.2]])\n",
    "\n",
    "# get the first two columns\n",
    "col0 = iris[:, 0]  # [5.1, 4.9, 4.7, 4.6]\n",
    "col1 = iris[:, 1]  # [3.5, 3.0, 3.2, 3.1]\n",
    "\n",
    "# get the mean value of the first column\n",
    "mean0 = col0.mean()  # 4.825\n",
    "\n",
    "# divide the entries in the first column by the entries in the second column\n",
    "quot = col0 / col1  # [1.46, 1.63, 1.47, 1.48]"
   ]
  },
  {
   "cell_type": "code",
   "execution_count": null,
   "metadata": {},
   "outputs": [],
   "source": [
    "import pandas as pd\n",
    "\n",
    "iris = pd.read_csv(\n",
    "    \"https://raw.githubusercontent.com/mwaskom/seaborn-data/master/iris.csv\"\n",
    ")\n",
    "iris\n",
    "\n",
    "iris_setosa = iris[iris[\"species\"] == \"setosa\"]\n",
    "\n",
    "iris_setosa[\"sepal_length\"] / iris_setosa[\"sepal_width\"]\n",
    "iris_setosa.iloc[:,0]\n"
   ]
  }
 ]
}