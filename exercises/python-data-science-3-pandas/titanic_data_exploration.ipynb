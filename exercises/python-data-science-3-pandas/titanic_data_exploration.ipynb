{
 "metadata": {
  "language_info": {
   "codemirror_mode": {
    "name": "ipython",
    "version": 3
   },
   "file_extension": ".py",
   "mimetype": "text/x-python",
   "name": "python",
   "nbconvert_exporter": "python",
   "pygments_lexer": "ipython3",
   "version": "3.8.7-final"
  },
  "orig_nbformat": 2,
  "kernelspec": {
   "name": "python3",
   "display_name": "Python 3.8.7 64-bit",
   "metadata": {
    "interpreter": {
     "hash": "55844fc403c1e6cbb23f0e846261a1093ea409966506a36fcc9ef96058a485f3"
    }
   }
  }
 },
 "nbformat": 4,
 "nbformat_minor": 2,
 "cells": [
  {
   "cell_type": "code",
   "execution_count": null,
   "metadata": {},
   "outputs": [],
   "source": [
    "import pandas as pd"
   ]
  },
  {
   "cell_type": "code",
   "execution_count": null,
   "metadata": {},
   "outputs": [],
   "source": [
    "titanic = pd.read_csv(\n",
    "    \"https://public.opendatasoft.com/explore/dataset/titanic-passengers/download\",\n",
    "    delimiter=\";\",\n",
    ")\n",
    "titanic"
   ]
  },
  {
   "cell_type": "code",
   "execution_count": null,
   "metadata": {},
   "outputs": [],
   "source": [
    "titanic.describe()"
   ]
  },
  {
   "cell_type": "code",
   "execution_count": null,
   "metadata": {},
   "outputs": [],
   "source": [
    "# task: visualize the age distribution on the Titanic\n",
    "\n",
    "titanic[\"age\"].plot.hist(bins=20)"
   ]
  },
  {
   "cell_type": "code",
   "execution_count": null,
   "metadata": {},
   "outputs": [],
   "source": [
    "# task: analyze the fare for each of the three passenger classes\n",
    "# create a plot that visualizes the fares\n",
    "\n",
    "pass_1_fares = titanic[titanic[\"pclass\"] == 1][\"fare\"]\n",
    "pass_2_fares = titanic[titanic[\"pclass\"] == 2][\"fare\"]\n",
    "pass_3_fares = titanic[titanic[\"pclass\"] == 3][\"fare\"]\n",
    "\n",
    "fares = pd.DataFrame({\n",
    "    \"class_1\": pass_1_fares,\n",
    "    \"class_2\": pass_2_fares,\n",
    "    \"class_3\": pass_3_fares\n",
    "})\n",
    "fares.plot.box(figsize= (6, 8))"
   ]
  },
  {
   "cell_type": "code",
   "execution_count": null,
   "metadata": {},
   "outputs": [],
   "source": [
    "# task: how many people were in each class (1, 2, 3)\n",
    "# and how many of each class survived?\n",
    "# - visualize the absolute amounts in a bar chart\n",
    "# - visualize the percentages in a pie chart with three pies\n",
    "\n",
    "passengers_class_counts = titanic[\"pclass\"].value_counts().sort_index()\n",
    "survived = titanic[titanic[\"survived\"] == \"Yes\"]\n",
    "survived_class_counts = survived[\"pclass\"].value_counts().sort_index()\n",
    "died_class_counts = passengers_class_counts - survived_class_counts\n",
    "\n",
    "pd.DataFrame({\n",
    "    \"all\": passengers_class_counts,\n",
    "    \"survived\": survived_class_counts\n",
    "}).plot.bar()\n",
    "\n",
    "pd.DataFrame({\n",
    "    \"survived\": survived_class_counts,\n",
    "    \"died\": died_class_counts\n",
    "}).transpose().plot.pie(subplots=True, figsize=(12, 8), colors=[\"C1\", \"C4\"], legend=False)"
   ]
  }
 ]
}